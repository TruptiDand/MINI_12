{
 "cells": [
  {
   "cell_type": "code",
   "execution_count": null,
   "id": "d053ce3a",
   "metadata": {},
   "outputs": [],
   "source": [
    "import numpy as np\n",
    "import pandas as pd\n",
    "import matplotlib.pyplot as plt\n",
    "import seaborn as sns\n",
    "\n",
    "pd.set_option('display.max_columns', None)\n",
    "\n",
    "np.random.seed(10)"
   ]
  },
  {
   "cell_type": "code",
   "execution_count": null,
   "id": "4774a91b",
   "metadata": {},
   "outputs": [],
   "source": [
    "#Importing the training & testing dataset\n",
    "train_dataset = pd.read_csv('E:\\DSspec\\Mobile price classification with KNN\\mobile_train.csv')\n",
    "test_dataset = pd.read_csv('E:\\DSspec\\Mobile price classification with KNN\\mobile_test.csv')\n",
    "\n",
    "print(\"First 10 rows of the Training Dataset !\")\n",
    "train_dataset.head(10)"
   ]
  },
  {
   "cell_type": "code",
   "execution_count": null,
   "id": "c4bcd7e3",
   "metadata": {},
   "outputs": [],
   "source": [
    "#Check if there is null values in any column\n",
    "train_dataset.isnull().sum()"
   ]
  },
  {
   "cell_type": "code",
   "execution_count": null,
   "id": "5175d5a3",
   "metadata": {},
   "outputs": [],
   "source": [
    "train_dataset.describe()"
   ]
  },
  {
   "cell_type": "code",
   "execution_count": null,
   "id": "fb97d91a",
   "metadata": {},
   "outputs": [],
   "source": [
    "#Some records contains px_height that equal ZERO will be dropped (Noisy Data)\n",
    "train_dataset = train_dataset.drop(train_dataset[train_dataset['px_height'] == 0].index)\n",
    "train_dataset.count()"
   ]
  },
  {
   "cell_type": "code",
   "execution_count": null,
   "id": "2b56279d",
   "metadata": {},
   "outputs": [],
   "source": [
    "#Splitting the training dataset into Train & Test for evaluation\n",
    "from sklearn.model_selection import train_test_split\n",
    "X_train_dataset, Y_train_dataset = train_dataset.iloc[:,:-1], train_dataset.iloc[:,-1]\n",
    "x_train, x_test, y_train, y_test = train_test_split(X_train_dataset,Y_train_dataset, test_size=0.3,random_state=42)"
   ]
  },
  {
   "cell_type": "code",
   "execution_count": null,
   "id": "cc8574f0",
   "metadata": {},
   "outputs": [],
   "source": [
    "#Trying kNN Classification\n",
    "from sklearn.neighbors import KNeighborsClassifier\n",
    "model = KNeighborsClassifier(n_neighbors=9,weights='distance').fit(x_train,y_train)\n",
    "predict = model.predict(x_test)"
   ]
  },
  {
   "cell_type": "code",
   "execution_count": null,
   "id": "a4850451",
   "metadata": {},
   "outputs": [],
   "source": [
    "#Evaluating\n",
    "train_accuracy = model.score(x_train,y_train)\n",
    "test_accuracy = model.score(x_test,y_test)\n",
    "print(\"Training Score:\",train_accuracy)\n",
    "print(\"Testing Score:\",test_accuracy)"
   ]
  }
 ],
 "metadata": {
  "kernelspec": {
   "display_name": "Python 3 (ipykernel)",
   "language": "python",
   "name": "python3"
  },
  "language_info": {
   "codemirror_mode": {
    "name": "ipython",
    "version": 3
   },
   "file_extension": ".py",
   "mimetype": "text/x-python",
   "name": "python",
   "nbconvert_exporter": "python",
   "pygments_lexer": "ipython3",
   "version": "3.9.9"
  }
 },
 "nbformat": 4,
 "nbformat_minor": 5
}
